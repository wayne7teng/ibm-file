{
    "cells": [
        {
            "cell_type": "markdown",
            "metadata": {},
            "source": "# Japan Hostels: CPI Analysis"
        },
        {
            "cell_type": "markdown",
            "metadata": {},
            "source": " ## Data Preparation/Pre-processing"
        },
        {
            "cell_type": "code",
            "execution_count": 23,
            "metadata": {},
            "outputs": [
                {
                    "ename": "SyntaxError",
                    "evalue": "invalid syntax (<ipython-input-23-27de370687e5>, line 1)",
                    "output_type": "error",
                    "traceback": [
                        "\u001b[0;36m  File \u001b[0;32m\"<ipython-input-23-27de370687e5>\"\u001b[0;36m, line \u001b[0;32m1\u001b[0m\n\u001b[0;31m    pip install folium\u001b[0m\n\u001b[0m              ^\u001b[0m\n\u001b[0;31mSyntaxError\u001b[0m\u001b[0;31m:\u001b[0m invalid syntax\n"
                    ]
                }
            ],
            "source": "\nimport pandas as pd\nimport numpy as np\nimport matplotlib.pyplot as plt\nimport seaborn as sns\nimport folium\nimport requests\nimport json\nfrom bs4 import BeautifulSoup\nimport matplotlib.cm as cm\nimport matplotlib.colors as colors\nfrom geopy import OpenCage\nfrom sklearn.cluster import KMeans\n\n%matplotlib inline"
        },
        {
            "cell_type": "markdown",
            "metadata": {},
            "source": "#### Hostel Dataset:"
        },
        {
            "cell_type": "code",
            "execution_count": null,
            "metadata": {},
            "outputs": [],
            "source": "hostel_df = pd.read_csv('data/Hostel.csv')\nhostel_df.head()"
        },
        {
            "cell_type": "markdown",
            "metadata": {},
            "source": "We will drop the 1st column and rename other columns to make them more readable."
        },
        {
            "cell_type": "code",
            "execution_count": 3,
            "metadata": {},
            "outputs": [],
            "source": "columns = ['Name', 'City', 'StartPrice', 'DistanceFromCityCentre', 'OverallScore', \n           'RatingCategory', 'Atmosphere', 'Cleanliness', 'Facilities', 'Location', \n           'Security', 'Staff', 'ValueForMoney', 'Longitude', 'Latitude']"
        },
        {
            "cell_type": "code",
            "execution_count": 4,
            "metadata": {},
            "outputs": [
                {
                    "ename": "NameError",
                    "evalue": "name 'hostel_df' is not defined",
                    "output_type": "error",
                    "traceback": [
                        "\u001b[0;31m---------------------------------------------------------------------------\u001b[0m",
                        "\u001b[0;31mNameError\u001b[0m                                 Traceback (most recent call last)",
                        "\u001b[0;32m<ipython-input-4-931363f7054f>\u001b[0m in \u001b[0;36m<module>\u001b[0;34m\u001b[0m\n\u001b[0;32m----> 1\u001b[0;31m \u001b[0mhostel_df\u001b[0m\u001b[0;34m.\u001b[0m\u001b[0mdrop\u001b[0m\u001b[0;34m(\u001b[0m\u001b[0;34m[\u001b[0m\u001b[0;34m'Unnamed: 0'\u001b[0m\u001b[0;34m]\u001b[0m\u001b[0;34m,\u001b[0m \u001b[0maxis\u001b[0m\u001b[0;34m=\u001b[0m\u001b[0;36m1\u001b[0m\u001b[0;34m,\u001b[0m \u001b[0minplace\u001b[0m\u001b[0;34m=\u001b[0m\u001b[0;32mTrue\u001b[0m\u001b[0;34m)\u001b[0m\u001b[0;34m\u001b[0m\u001b[0;34m\u001b[0m\u001b[0m\n\u001b[0m\u001b[1;32m      2\u001b[0m \u001b[0mhostel_df\u001b[0m\u001b[0;34m.\u001b[0m\u001b[0mcolumns\u001b[0m \u001b[0;34m=\u001b[0m \u001b[0mcolumns\u001b[0m\u001b[0;34m\u001b[0m\u001b[0;34m\u001b[0m\u001b[0m\n\u001b[1;32m      3\u001b[0m \u001b[0mhostel_df\u001b[0m\u001b[0;34m.\u001b[0m\u001b[0mhead\u001b[0m\u001b[0;34m(\u001b[0m\u001b[0;34m)\u001b[0m\u001b[0;34m\u001b[0m\u001b[0;34m\u001b[0m\u001b[0m\n",
                        "\u001b[0;31mNameError\u001b[0m: name 'hostel_df' is not defined"
                    ]
                }
            ],
            "source": "hostel_df.drop(['Unnamed: 0'], axis=1, inplace=True)\nhostel_df.columns = columns\nhostel_df.head()"
        },
        {
            "cell_type": "code",
            "execution_count": null,
            "metadata": {},
            "outputs": [],
            "source": "print(\"Number of Hostels: \", hostel_df.shape[0])"
        },
        {
            "cell_type": "markdown",
            "metadata": {},
            "source": "Let's check if any hostels are missing location data since that is essential for our analysis."
        },
        {
            "cell_type": "code",
            "execution_count": null,
            "metadata": {},
            "outputs": [],
            "source": "print(\"Num of hostels with missing Longitude: \", hostel_df.Longitude.isna().sum())"
        },
        {
            "cell_type": "code",
            "execution_count": null,
            "metadata": {},
            "outputs": [],
            "source": "print(\"Num of hostels with missing Latitude: \", hostel_df.Latitude.isna().sum())"
        },
        {
            "cell_type": "code",
            "execution_count": 5,
            "metadata": {},
            "outputs": [
                {
                    "ename": "NameError",
                    "evalue": "name 'hostel_df' is not defined",
                    "output_type": "error",
                    "traceback": [
                        "\u001b[0;31m---------------------------------------------------------------------------\u001b[0m",
                        "\u001b[0;31mNameError\u001b[0m                                 Traceback (most recent call last)",
                        "\u001b[0;32m<ipython-input-5-c2af092be232>\u001b[0m in \u001b[0;36m<module>\u001b[0;34m\u001b[0m\n\u001b[1;32m      1\u001b[0m \u001b[0;31m# Remove hostels with missing latitude and longitude\u001b[0m\u001b[0;34m\u001b[0m\u001b[0;34m\u001b[0m\u001b[0;34m\u001b[0m\u001b[0m\n\u001b[0;32m----> 2\u001b[0;31m \u001b[0mhostel_df\u001b[0m \u001b[0;34m=\u001b[0m \u001b[0mhostel_df\u001b[0m\u001b[0;34m[\u001b[0m\u001b[0mhostel_df\u001b[0m\u001b[0;34m.\u001b[0m\u001b[0mLongitude\u001b[0m\u001b[0;34m.\u001b[0m\u001b[0misna\u001b[0m\u001b[0;34m(\u001b[0m\u001b[0;34m)\u001b[0m \u001b[0;34m==\u001b[0m \u001b[0;32mFalse\u001b[0m\u001b[0;34m]\u001b[0m\u001b[0;34m\u001b[0m\u001b[0;34m\u001b[0m\u001b[0m\n\u001b[0m\u001b[1;32m      3\u001b[0m \u001b[0mhostel_df\u001b[0m \u001b[0;34m=\u001b[0m \u001b[0mhostel_df\u001b[0m\u001b[0;34m[\u001b[0m\u001b[0mhostel_df\u001b[0m\u001b[0;34m.\u001b[0m\u001b[0mLatitude\u001b[0m\u001b[0;34m.\u001b[0m\u001b[0misna\u001b[0m\u001b[0;34m(\u001b[0m\u001b[0;34m)\u001b[0m \u001b[0;34m==\u001b[0m \u001b[0;32mFalse\u001b[0m\u001b[0;34m]\u001b[0m\u001b[0;34m\u001b[0m\u001b[0;34m\u001b[0m\u001b[0m\n\u001b[1;32m      4\u001b[0m \u001b[0mhostel_df\u001b[0m\u001b[0;34m.\u001b[0m\u001b[0mshape\u001b[0m\u001b[0;34m\u001b[0m\u001b[0;34m\u001b[0m\u001b[0m\n",
                        "\u001b[0;31mNameError\u001b[0m: name 'hostel_df' is not defined"
                    ]
                }
            ],
            "source": "# Remove hostels with missing latitude and longitude \nhostel_df = hostel_df[hostel_df.Longitude.isna() == False]\nhostel_df = hostel_df[hostel_df.Latitude.isna() == False]\nhostel_df.shape"
        },
        {
            "cell_type": "markdown",
            "metadata": {},
            "source": "If we see the DistanceFromCityCentre column, we see that it has distance as well as text, let's remove the unwanted text."
        },
        {
            "cell_type": "code",
            "execution_count": null,
            "metadata": {},
            "outputs": [],
            "source": "hostel_df.DistanceFromCityCentre = hostel_df.DistanceFromCityCentre.replace(r'[^\\d\\.]+', '', regex=True)\nhostel_df.head()"
        },
        {
            "cell_type": "markdown",
            "metadata": {},
            "source": "Let's do a final check if any more values are missing and what we want to do about them"
        },
        {
            "cell_type": "code",
            "execution_count": null,
            "metadata": {},
            "outputs": [],
            "source": "hostel_df.count()"
        },
        {
            "cell_type": "code",
            "execution_count": null,
            "metadata": {},
            "outputs": [],
            "source": "hostel_df.dtypes"
        },
        {
            "cell_type": "code",
            "execution_count": null,
            "metadata": {},
            "outputs": [],
            "source": "# Convert DistanceFromCityCentre to float64\nhostel_df.DistanceFromCityCentre = hostel_df.DistanceFromCityCentre.astype('float')\nhostel_df.dtypes"
        },
        {
            "cell_type": "code",
            "execution_count": null,
            "metadata": {},
            "outputs": [],
            "source": "hostel_df.head()"
        },
        {
            "cell_type": "code",
            "execution_count": null,
            "metadata": {},
            "outputs": [],
            "source": "tokyo_hostels_df = hostel_df[hostel_df.City == \"Tokyo\"]"
        },
        {
            "cell_type": "markdown",
            "metadata": {},
            "source": "<br>  \n\n#### Neighborhood Data(Foursquare):"
        },
        {
            "cell_type": "code",
            "execution_count": null,
            "metadata": {},
            "outputs": [],
            "source": "search_url = 'https://api.foursquare.com/v2/venues/search'\nexplore_url = 'https://api.foursquare.com/v2/venues/explore'"
        },
        {
            "cell_type": "markdown",
            "metadata": {},
            "source": "I've stored my foursqaure credentials in a file which I am reading below"
        },
        {
            "cell_type": "code",
            "execution_count": null,
            "metadata": {},
            "outputs": [],
            "source": "with open(\"data/creds.json\", 'r') as f:\n    creds = json.load(f)\nCLIENT_ID = creds['id'] # your Foursquare ID\nCLIENT_SECRET = creds['secret'] # your Foursquare Secret\nVERSION = '20180605' # Foursquare API version"
        },
        {
            "cell_type": "code",
            "execution_count": null,
            "metadata": {},
            "outputs": [],
            "source": "sample_hotel = hostel_df.loc[0]\nsample_hotel.Name"
        },
        {
            "cell_type": "code",
            "execution_count": 6,
            "metadata": {},
            "outputs": [
                {
                    "ename": "NameError",
                    "evalue": "name 'CLIENT_ID' is not defined",
                    "output_type": "error",
                    "traceback": [
                        "\u001b[0;31m---------------------------------------------------------------------------\u001b[0m",
                        "\u001b[0;31mNameError\u001b[0m                                 Traceback (most recent call last)",
                        "\u001b[0;32m<ipython-input-6-004421b868e0>\u001b[0m in \u001b[0;36m<module>\u001b[0;34m\u001b[0m\n\u001b[1;32m      1\u001b[0m params = dict(\n\u001b[0;32m----> 2\u001b[0;31m   \u001b[0mclient_id\u001b[0m\u001b[0;34m=\u001b[0m\u001b[0mCLIENT_ID\u001b[0m\u001b[0;34m,\u001b[0m\u001b[0;34m\u001b[0m\u001b[0;34m\u001b[0m\u001b[0m\n\u001b[0m\u001b[1;32m      3\u001b[0m   \u001b[0mclient_secret\u001b[0m\u001b[0;34m=\u001b[0m\u001b[0mCLIENT_SECRET\u001b[0m\u001b[0;34m,\u001b[0m\u001b[0;34m\u001b[0m\u001b[0;34m\u001b[0m\u001b[0m\n\u001b[1;32m      4\u001b[0m   \u001b[0mv\u001b[0m\u001b[0;34m=\u001b[0m\u001b[0mVERSION\u001b[0m\u001b[0;34m,\u001b[0m\u001b[0;34m\u001b[0m\u001b[0;34m\u001b[0m\u001b[0m\n\u001b[1;32m      5\u001b[0m   \u001b[0mll\u001b[0m\u001b[0;34m=\u001b[0m\u001b[0;34mf\"{sample_hotel.Latitude}, {sample_hotel.Longitude}\"\u001b[0m\u001b[0;34m,\u001b[0m\u001b[0;34m\u001b[0m\u001b[0;34m\u001b[0m\u001b[0m\n",
                        "\u001b[0;31mNameError\u001b[0m: name 'CLIENT_ID' is not defined"
                    ]
                }
            ],
            "source": "params = dict(\n  client_id=CLIENT_ID,\n  client_secret=CLIENT_SECRET,\n  v=VERSION,\n  ll=f\"{sample_hotel.Latitude}, {sample_hotel.Longitude}\",\n  radius=500,\n  limit=100,\n  sortByPopularity=1\n)"
        },
        {
            "cell_type": "code",
            "execution_count": null,
            "metadata": {},
            "outputs": [],
            "source": "def get_recommended_venues(name, lattitude, longitude, limit=100, radius=500):\n    venues = []\n    params = dict(\n        client_id=CLIENT_ID,\n        client_secret=CLIENT_SECRET,\n        v=VERSION,\n        ll=f\"{lattitude}, {longitude}\",\n        radius=radius,\n        limit=limit,\n        sortByPopularity=1\n    )\n    data = requests.get(explore_url, params=params).json()['response']['groups'][0]['items']\n    for v in data:\n        v = v['venue']\n        primary_cat = \"\"\n        for c in v['categories']:\n            if(c['primary']):\n                primary_cat=c['name']\n        venues.append({\n            'HostelName':name, \n            'VenueName': v['name'], \n            'Category': primary_cat, \n            'VenueLatitue': v['location']['lat'], \n            'VenueLongtitude': v['location']['lng']\n        })\n    return venues"
        },
        {
            "cell_type": "code",
            "execution_count": null,
            "metadata": {},
            "outputs": [],
            "source": "venue_list = []"
        },
        {
            "cell_type": "code",
            "execution_count": null,
            "metadata": {
                "jupyter": {
                    "outputs_hidden": true
                }
            },
            "outputs": [],
            "source": "for name, lat, long in zip(hostel_df.Name, hostel_df.Latitude, hostel_df.Longitude):\n    venue_list.extend(get_recommended_venues(name, lat, long))\n    i = len(venue_list)\n    print(i)"
        },
        {
            "cell_type": "code",
            "execution_count": null,
            "metadata": {},
            "outputs": [],
            "source": "venues_df = pd.DataFrame(venue_list)\nvenues_df = venues_df.rename(columns={'VenueLatitue': 'VenueLatitude', 'VenueLongtitude': 'VenueLongitude'})\nvenues_df.head()"
        },
        {
            "cell_type": "markdown",
            "metadata": {},
            "source": "Let's create a new dataframe for venues for hostels in tokyo."
        },
        {
            "cell_type": "code",
            "execution_count": null,
            "metadata": {},
            "outputs": [],
            "source": "tokyo_venues_df = venues_df[venues_df.HostelName.isin(tokyo_hostels_df.Name)]"
        },
        {
            "cell_type": "code",
            "execution_count": null,
            "metadata": {},
            "outputs": [],
            "source": "tokyo_venues_df.head()"
        },
        {
            "cell_type": "code",
            "execution_count": null,
            "metadata": {},
            "outputs": [],
            "source": "tokyo_venues_df.shape"
        },
        {
            "cell_type": "markdown",
            "metadata": {},
            "source": "<br>\n\n#### Land Price Data(Foursquare):"
        },
        {
            "cell_type": "code",
            "execution_count": null,
            "metadata": {},
            "outputs": [],
            "source": "land_price_url = 'https://utinokati.com/en/details/land-market-value/area/Tokyo/'\n\ndata = BeautifulSoup(requests.get(land_price_url).content)"
        },
        {
            "cell_type": "code",
            "execution_count": null,
            "metadata": {},
            "outputs": [],
            "source": "price_df = pd.read_html(data.find('table', {'class':'table-condensed'}).prettify())[0]"
        },
        {
            "cell_type": "code",
            "execution_count": null,
            "metadata": {},
            "outputs": [],
            "source": "price_df.drop(['#', 'Average Trading Price'], axis=1, inplace=True)\nprice_df.rename(columns={'Average Unit Price': 'PricePerSqMeter', 'Area': 'Neighborhood'}, inplace=True)\nprice_df.PricePerSqMeter = price_df.PricePerSqMeter.apply(lambda x: x.strip(' JPY/sq.m').replace(',', '')).astype(int)"
        },
        {
            "cell_type": "code",
            "execution_count": null,
            "metadata": {},
            "outputs": [],
            "source": "price_df.head()"
        },
        {
            "cell_type": "markdown",
            "metadata": {},
            "source": "Let's see all the neighborhoods"
        },
        {
            "cell_type": "code",
            "execution_count": null,
            "metadata": {},
            "outputs": [],
            "source": "print(price_df.Neighborhood.sort_values())"
        },
        {
            "cell_type": "markdown",
            "metadata": {},
            "source": "Let's remove -ku suffix from all the neighborhood names"
        },
        {
            "cell_type": "code",
            "execution_count": null,
            "metadata": {},
            "outputs": [],
            "source": "price_df.Neighborhood.replace(\"(Ku)\", \"\", regex=True, inplace=True)"
        },
        {
            "cell_type": "code",
            "execution_count": null,
            "metadata": {},
            "outputs": [],
            "source": "price_df.head()"
        },
        {
            "cell_type": "markdown",
            "metadata": {},
            "source": "The hostels dataset doesn't contain information on the locality of the hostel. We'll use reverse geocoding for this purpose. I'm using a free account on OpenCage for this purpose."
        },
        {
            "cell_type": "markdown",
            "metadata": {},
            "source": "We'll try the API with one Hostel and then write function to do the same for all hostels in tokyo."
        },
        {
            "cell_type": "code",
            "execution_count": 7,
            "metadata": {},
            "outputs": [
                {
                    "ename": "NameError",
                    "evalue": "name 'tokyo_hostels_df' is not defined",
                    "output_type": "error",
                    "traceback": [
                        "\u001b[0;31m---------------------------------------------------------------------------\u001b[0m",
                        "\u001b[0;31mNameError\u001b[0m                                 Traceback (most recent call last)",
                        "\u001b[0;32m<ipython-input-7-13a1e00c6ad0>\u001b[0m in \u001b[0;36m<module>\u001b[0;34m\u001b[0m\n\u001b[0;32m----> 1\u001b[0;31m \u001b[0mtemp\u001b[0m \u001b[0;34m=\u001b[0m \u001b[0mtokyo_hostels_df\u001b[0m\u001b[0;34m.\u001b[0m\u001b[0miloc\u001b[0m\u001b[0;34m[\u001b[0m\u001b[0;36m1\u001b[0m\u001b[0;34m]\u001b[0m\u001b[0;34m\u001b[0m\u001b[0;34m\u001b[0m\u001b[0m\n\u001b[0m\u001b[1;32m      2\u001b[0m \u001b[0mtemp\u001b[0m\u001b[0;34m.\u001b[0m\u001b[0mto_frame\u001b[0m\u001b[0;34m(\u001b[0m\u001b[0;34m)\u001b[0m\u001b[0;34m.\u001b[0m\u001b[0mT\u001b[0m\u001b[0;34m\u001b[0m\u001b[0;34m\u001b[0m\u001b[0m\n",
                        "\u001b[0;31mNameError\u001b[0m: name 'tokyo_hostels_df' is not defined"
                    ]
                }
            ],
            "source": "temp = tokyo_hostels_df.iloc[1]\ntemp.to_frame().T"
        },
        {
            "cell_type": "code",
            "execution_count": null,
            "metadata": {},
            "outputs": [],
            "source": "from opencage.geocoder import OpenCageGeocode\n\ngeo = OpenCageGeocode(\"28b371af498445e8842797870bb8dbbb\")"
        },
        {
            "cell_type": "code",
            "execution_count": null,
            "metadata": {},
            "outputs": [],
            "source": "results = geo.reverse_geocode(temp.Latitude, temp.Longitude)"
        },
        {
            "cell_type": "code",
            "execution_count": null,
            "metadata": {},
            "outputs": [],
            "source": "results[0]['formatted']"
        },
        {
            "cell_type": "code",
            "execution_count": null,
            "metadata": {},
            "outputs": [],
            "source": "import time\n\naddress = []\nfor lat, long in zip(tokyo_hostels_df.Latitude, tokyo_hostels_df.Longitude):\n    loc = geo.reverse_geocode(lat, long)[0]\n    address.append(loc['formatted'])\n    time.sleep(1)"
        },
        {
            "cell_type": "code",
            "execution_count": null,
            "metadata": {},
            "outputs": [],
            "source": "neighborhood = []\nfor addr in tokyo_hostels_df.Address:\n    for nb in price_df.Neighborhood:\n        if nb.lower() in addr.lower():\n            neighborhood.append(nb)\n            break\n    else:\n        print(\"No nb found for \", addr)\n        neighborhood.append(np.nan)\n"
        },
        {
            "cell_type": "markdown",
            "metadata": {},
            "source": "We will remove these two hostels from our dataset since we don't have the name of their neighborhood."
        },
        {
            "cell_type": "code",
            "execution_count": 8,
            "metadata": {},
            "outputs": [
                {
                    "ename": "NameError",
                    "evalue": "name 'tokyo_hostels_df' is not defined",
                    "output_type": "error",
                    "traceback": [
                        "\u001b[0;31m---------------------------------------------------------------------------\u001b[0m",
                        "\u001b[0;31mNameError\u001b[0m                                 Traceback (most recent call last)",
                        "\u001b[0;32m<ipython-input-8-c2b86f02a109>\u001b[0m in \u001b[0;36m<module>\u001b[0;34m\u001b[0m\n\u001b[0;32m----> 1\u001b[0;31m \u001b[0mprint\u001b[0m\u001b[0;34m(\u001b[0m\u001b[0;34m\"Current number of hostels: \"\u001b[0m\u001b[0;34m,\u001b[0m \u001b[0mtokyo_hostels_df\u001b[0m\u001b[0;34m.\u001b[0m\u001b[0mshape\u001b[0m\u001b[0;34m[\u001b[0m\u001b[0;36m0\u001b[0m\u001b[0;34m]\u001b[0m\u001b[0;34m)\u001b[0m\u001b[0;34m\u001b[0m\u001b[0;34m\u001b[0m\u001b[0m\n\u001b[0m",
                        "\u001b[0;31mNameError\u001b[0m: name 'tokyo_hostels_df' is not defined"
                    ]
                }
            ],
            "source": "print(\"Current number of hostels: \", tokyo_hostels_df.shape[0])"
        },
        {
            "cell_type": "code",
            "execution_count": null,
            "metadata": {},
            "outputs": [],
            "source": "tokyo_hostels_df['Neighborhood'] = neighborhood"
        },
        {
            "cell_type": "code",
            "execution_count": null,
            "metadata": {},
            "outputs": [],
            "source": "tokyo_hostels_df = tokyo_hostels_df[tokyo_hostels_df.Neighborhood.isna() == False]"
        },
        {
            "cell_type": "code",
            "execution_count": null,
            "metadata": {},
            "outputs": [],
            "source": "print(\"New number of hostels: \", tokyo_hostels_df.shape[0])"
        },
        {
            "cell_type": "code",
            "execution_count": null,
            "metadata": {},
            "outputs": [],
            "source": "tokyo_hostels_df.head()"
        },
        {
            "cell_type": "code",
            "execution_count": null,
            "metadata": {},
            "outputs": [],
            "source": "hostel_df.to_pickle('data/hostels_cleaned.pkl')\nvenues_df.to_pickle('data/hostel_venues.pkl')\nprice_df.to_pickle('data/tokyo_land_prices.pkl')\ntokyo_hostels_df.to_pickle('data/tokyo_hostels.pkl')\ntokyo_venues_df.to_pickle('data/tokyo_hostels_venues.pkl')"
        },
        {
            "cell_type": "markdown",
            "metadata": {},
            "source": "<hr><br>"
        },
        {
            "cell_type": "markdown",
            "metadata": {},
            "source": "## 5. Analysis"
        },
        {
            "cell_type": "markdown",
            "metadata": {},
            "source": "### Loading data"
        },
        {
            "cell_type": "code",
            "execution_count": null,
            "metadata": {},
            "outputs": [],
            "source": "hostel_df = pd.read_pickle('data/hostels_cleaned.pkl')\nprice_df = pd.read_pickle('data/tokyo_land_prices.pkl')\ntokyo_hostels_df = pd.read_pickle('data/tokyo_hostels.pkl')\ntokyo_venues_df = pd.read_pickle('data/tokyo_hostels_venues.pkl')\nvenues_df = pd.read_pickle('data/hostel_venues.pkl')"
        },
        {
            "cell_type": "markdown",
            "metadata": {},
            "source": "### 5.1 Exploratory Data Analysis\nUsing EDA, we will try to answer the following questions:\n- How does price vary with location?\n- Which hostels are most secure and where are they located?\n- Where are the <i>'value of money'</i> hostels located?\n- How does proximity to transportation affect hostel rating?"
        },
        {
            "cell_type": "markdown",
            "metadata": {},
            "source": "Let's first start by analyzing which cities are covered in our dataset"
        },
        {
            "cell_type": "code",
            "execution_count": null,
            "metadata": {},
            "outputs": [],
            "source": "hostel_df.City.value_counts()"
        },
        {
            "cell_type": "code",
            "execution_count": null,
            "metadata": {},
            "outputs": [],
            "source": "plt.figure(figsize=(12, 6))\nax = hostel_df.City.value_counts().plot(kind=\"barh\", color=\"#BC002D\", fontsize=12)\nax.set_title(\"Hostel Count (Japan)\", fontsize=16)\nax.set_xlabel(\"# of hostels\", fontsize=12)\n\nfor p in ax.patches:\n    ax.annotate(str(p.get_width()), (p.get_width() + 0.5, p.get_y() + 0.2))"
        },
        {
            "cell_type": "markdown",
            "metadata": {},
            "source": "<br>Tokyo has the most number of hostels which is understandable since it is once of the largest cities of the world and hence might attract a lot of visitors through its airport"
        },
        {
            "cell_type": "markdown",
            "metadata": {},
            "source": "<br>Going ahead, our focus will only be tokyo hostels"
        },
        {
            "cell_type": "code",
            "execution_count": null,
            "metadata": {},
            "outputs": [],
            "source": "tokyo_hostels_df.head()"
        },
        {
            "cell_type": "code",
            "execution_count": null,
            "metadata": {},
            "outputs": [],
            "source": "tokyo_hostels_df.shape"
        },
        {
            "cell_type": "markdown",
            "metadata": {},
            "source": "<br>Let's visualize all these hostels on the map"
        },
        {
            "cell_type": "code",
            "execution_count": null,
            "metadata": {},
            "outputs": [],
            "source": "tokyo_map = folium.Map(location=(35.689487, 139.691711), zoom_start=11)\n\n# add markers to map\nfor lat, lng, label in zip(tokyo_hostels_df.Latitude, tokyo_hostels_df.Longitude, tokyo_hostels_df.Name):\n    label = folium.Popup(label, parse_html=True)\n    folium.CircleMarker(\n        [lat, lng],\n        radius=3,\n        popup=label,\n        color='#BC002D',\n        fill=True,\n        fill_color='#FFF',\n        fill_opacity=0.75,\n        parse_html=False).add_to(tokyo_map)\n    \ntokyo_map"
        },
        {
            "cell_type": "markdown",
            "metadata": {},
            "source": "<hr><br>"
        },
        {
            "cell_type": "markdown",
            "metadata": {},
            "source": "#### Chloropleth: Hostel Density"
        },
        {
            "cell_type": "markdown",
            "metadata": {},
            "source": "Let's visualize how many hostels are located in each neighborhood"
        },
        {
            "cell_type": "code",
            "execution_count": null,
            "metadata": {},
            "outputs": [],
            "source": "hostels_density = tokyo_hostels_df.groupby('Neighborhood')['Name'].count().to_frame().reset_index()\nhostels_density.columns = ['Neighborhood', 'Count']\nhostels_density.sort_values(['Count'], ascending=False)[:5]"
        },
        {
            "cell_type": "code",
            "execution_count": null,
            "metadata": {},
            "outputs": [],
            "source": "import geopandas\n\nhostels_density.Neighborhood = hostels_density.Neighborhood + ' Ku'\ngdf = geopandas.read_file('data/tokyo.json')\ngdf = gdf.merge(hostels_density, left_on=\"area\", right_on=\"Neighborhood\")\ngdf.head()"
        },
        {
            "cell_type": "code",
            "execution_count": null,
            "metadata": {},
            "outputs": [],
            "source": "import branca\n\ncolormap = branca.colormap.LinearColormap(\n    colors=['#FFF9C4','#FFF176','#FFCA28','#FF9800','#D84315'],\n    index=gdf['Count'].quantile([0.25, 0.5, 0.7, 0.9]),\n    vmin=hostels_density.Count.min(),\n    vmax=hostels_density.Count.max()\n)\n\ncolormap.caption=\"Hostel Density in Tokyo\""
        },
        {
            "cell_type": "code",
            "execution_count": null,
            "metadata": {},
            "outputs": [],
            "source": "tokyo_map = folium.Map(location=(35.689487, 139.691711), zoom_start=11)\n\ngj = folium.GeoJson(\n    gdf,\n    style_function=lambda x: {'fillColor': colormap(x['properties']['Count']), 'color': '#000',\n                                                    'weight':0.25, 'fillOpacity':0.75},\n    tooltip=folium.GeoJsonTooltip(fields=['Neighborhood', 'Count'], \n                                  aliases=['Neighborhood', 'Num of Hostels'], \n                                  localize=True)\n).add_to(tokyo_map)\n\ntokyo_map"
        },
        {
            "cell_type": "markdown",
            "metadata": {},
            "source": "It is evident from the above map that __Taito__ and __Chuo__ are host to many hostels. Hostel density is highest in these neighborhoods"
        },
        {
            "cell_type": "markdown",
            "metadata": {},
            "source": "Let's checkout the most expensive neighborhoods and number of hostels in that region:"
        },
        {
            "cell_type": "code",
            "execution_count": null,
            "metadata": {},
            "outputs": [],
            "source": "gdf_new = gdf[['Neighborhood', 'Count']]\ngdf_new.Neighborhood = gdf.Neighborhood.str.strip(\" Ku\")\ncnt_price_df = gdf_new.merge(price_df, on=\"Neighborhood\").sort_values('PricePerSqMeter', ascending=False).reset_index(drop=True)\ncnt_price_df.head()"
        },
        {
            "cell_type": "markdown",
            "metadata": {},
            "source": "Let's checkout the least expensive neighborhoods and number of hostels in that region:"
        },
        {
            "cell_type": "code",
            "execution_count": null,
            "metadata": {},
            "outputs": [],
            "source": "cnt_price_df.tail()"
        },
        {
            "cell_type": "markdown",
            "metadata": {},
            "source": "Now, let's take a look at all the neighborhoods"
        },
        {
            "cell_type": "code",
            "execution_count": null,
            "metadata": {},
            "outputs": [],
            "source": "cnt_price_df.sort_values(['Count', 'PricePerSqMeter'])"
        },
        {
            "cell_type": "code",
            "execution_count": null,
            "metadata": {},
            "outputs": [],
            "source": "(1028047 - 586675) / 1028047"
        },
        {
            "cell_type": "markdown",
            "metadata": {},
            "source": "- Sumida-Ku seems to be popular since it ranks third in the list of number of hostels and at the same time, it is the 4th cheapest neighborhood in our list\n- The price of property(per sq. meter) in Sumita-Ku is almost 43% less than that in Taito-ku, which combined wih the fact that it is close to Taito-ku and has fewer hostels than Taito-ku, makes it an exciting prospect for new investors."
        },
        {
            "cell_type": "markdown",
            "metadata": {},
            "source": "<hr><br>\n\n##### Q. How does price vary with distance from city center?\nAs per me, the closer a hostel to the city center, the higher it's price. Let's see if we can prove that using data."
        },
        {
            "cell_type": "code",
            "execution_count": null,
            "metadata": {},
            "outputs": [],
            "source": "tokyo_hostels_df.StartPrice.value_counts()"
        },
        {
            "cell_type": "markdown",
            "metadata": {},
            "source": "We can see that one hostel has a very high starting price! Can a hostel charge 1003200 Yen? Doesn't seem likely. Hence, we will remove that row from the dataset."
        },
        {
            "cell_type": "code",
            "execution_count": null,
            "metadata": {},
            "outputs": [],
            "source": "tokyo_hostels_df = tokyo_hostels_df[tokyo_hostels_df.StartPrice < 1000000]"
        },
        {
            "cell_type": "code",
            "execution_count": null,
            "metadata": {},
            "outputs": [],
            "source": "tokyo_hostels_df.plot(x='DistanceFromCityCentre', y='StartPrice', kind='scatter', figsize=(15, 8), color='#BC002D')\nplt.xlabel(\"Distance from City Center (km)\")\nplt.ylabel(\"Starting Price\")\nplt.title(\"Hostel Starting Price w.r.t. proximity to city center\", fontsize=16)\nplt.show()"
        },
        {
            "cell_type": "markdown",
            "metadata": {},
            "source": "We cannot see any pattern which can help us verify our assumption. If our assumption was correct, we should be be seeing a curve which decreases as distance increases. However, there is on such curve visible."
        },
        {
            "cell_type": "markdown",
            "metadata": {},
            "source": "Let's check the correlation score of StartPrice with DistanceFromCityCentre"
        },
        {
            "cell_type": "code",
            "execution_count": null,
            "metadata": {},
            "outputs": [],
            "source": "tokyo_hostels_df[['StartPrice', 'DistanceFromCityCentre']].corr()"
        },
        {
            "cell_type": "markdown",
            "metadata": {},
            "source": "The correlation coefficient is very less. Hence, we can say that the starting price of hostels does not vary according to its distance from the city center."
        },
        {
            "cell_type": "markdown",
            "metadata": {},
            "source": "> **The starting price of hostels does not vary much depending on its distance from the city center.**"
        },
        {
            "cell_type": "markdown",
            "metadata": {},
            "source": "<hr><br>\n\n##### Q. Which hostels are most secure and where are they located?\nI have no idea as to where the most secure hostels are located. Let's find out!"
        },
        {
            "cell_type": "code",
            "execution_count": null,
            "metadata": {},
            "outputs": [],
            "source": "plt.figure(figsize=(15,8))\nsns.countplot(x=tokyo_hostels_df.Security)"
        },
        {
            "cell_type": "markdown",
            "metadata": {},
            "source": "As we can see, most hostels are quite secure as rated by users, so that's some great news for travellers. Let's put hostels with security rating 9.5 and above on the map."
        },
        {
            "cell_type": "code",
            "execution_count": null,
            "metadata": {},
            "outputs": [],
            "source": "highsec_hostels = tokyo_hostels_df[tokyo_hostels_df.Security > 9]\nlowsec_hostels = tokyo_hostels_df[tokyo_hostels_df.Security <= 9]\n"
        },
        {
            "cell_type": "code",
            "execution_count": null,
            "metadata": {},
            "outputs": [],
            "source": "tokyo_map = folium.Map(location=(35.689487, 139.691711), zoom_start=11)\n\n# add markers to map\nfor lat, lng, label in zip(highsec_hostels.Latitude, highsec_hostels.Longitude, highsec_hostels.Name):\n    label = folium.Popup(label, parse_html=True)\n    folium.CircleMarker(\n        [lat, lng],\n        radius=3,\n        popup=label,\n        color='#33cc33',\n        fill=True,\n        fill_color='#FFF',\n        fill_opacity=0.75,\n        parse_html=False).add_to(tokyo_map)\n    \n# add markers to map\nfor lat, lng, label in zip(lowsec_hostels.Latitude, lowsec_hostels.Longitude, lowsec_hostels.Name):\n    label = folium.Popup(label, parse_html=True)\n    folium.CircleMarker(\n        [lat, lng],\n        radius=3,\n        popup=label,\n        color='#BC002D',\n        fill=True,\n        fill_color='#FFF',\n        fill_opacity=0.75,\n        parse_html=False).add_to(tokyo_map)\n    \ntokyo_map"
        },
        {
            "cell_type": "markdown",
            "metadata": {},
            "source": "Let's try to visualize "
        },
        {
            "cell_type": "code",
            "execution_count": null,
            "metadata": {},
            "outputs": [],
            "source": "highsec_hostel_areas = highsec_hostels.groupby('Neighborhood')['Name'].count().to_frame().reset_index()\nhighsec_hostel_areas.rename(columns={'Name': 'Count'}, inplace=True)\nhighsec_hostel_areas['Total'] = tokyo_hostels_df[tokyo_hostels_df.Neighborhood.isin(highsec_hostel_areas.Neighborhood)].groupby('Neighborhood')['Name'].count().values"
        },
        {
            "cell_type": "code",
            "execution_count": null,
            "metadata": {},
            "outputs": [],
            "source": "highsec_hostel_areas['% High Security'] = np.round(highsec_hostel_areas.Count/highsec_hostel_areas.Total, decimals=2)*100\nhighsec_hostel_areas.sort_values(['% High Security', 'Count'], ascending=False)"
        },
        {
            "cell_type": "markdown",
            "metadata": {},
            "source": "We can see that Katsushika, Kita, Meguro, Shibuya and Shinagawa have 100% safe hostels. Let's see them on a map and check if they are nearby."
        },
        {
            "cell_type": "code",
            "execution_count": null,
            "metadata": {},
            "outputs": [],
            "source": "highsec_gdf = gdf[gdf.Neighborhood.isin(highsec_hostel_areas[highsec_hostel_areas['% High Security']==100].Neighborhood + ' Ku')]\nhighsec_gdf"
        },
        {
            "cell_type": "code",
            "execution_count": null,
            "metadata": {},
            "outputs": [],
            "source": "tokyo_map = folium.Map(location=(35.689487, 139.691711), zoom_start=11)\n\ngj = folium.GeoJson(\n    highsec_gdf,\n    style_function=lambda x: {'fillColor': '#BC002D', 'color': '#000',\n                                                    'weight':0.25, 'fillOpacity':0.5},\n    tooltip=folium.GeoJsonTooltip(fields=['Neighborhood', 'Count'], \n                                  aliases=['Neighborhood', 'Num of Hostels'], \n                                  localize=True)\n).add_to(tokyo_map)\n\ntokyo_map"
        },
        {
            "cell_type": "markdown",
            "metadata": {},
            "source": "> **Hostels with the very high security score are in Katsushika, Kita, Meguro, Shibuya and Shinagawa**"
        },
        {
            "cell_type": "markdown",
            "metadata": {},
            "source": "<hr><br>\n\n##### Q. Where are the 'value of money' hostels located?"
        },
        {
            "cell_type": "code",
            "execution_count": 12,
            "metadata": {},
            "outputs": [
                {
                    "ename": "NameError",
                    "evalue": "name 'tokyo_hostels_df' is not defined",
                    "output_type": "error",
                    "traceback": [
                        "\u001b[0;31m---------------------------------------------------------------------------\u001b[0m",
                        "\u001b[0;31mNameError\u001b[0m                                 Traceback (most recent call last)",
                        "\u001b[0;32m<ipython-input-12-36ef035164d9>\u001b[0m in \u001b[0;36m<module>\u001b[0;34m\u001b[0m\n\u001b[0;32m----> 1\u001b[0;31m \u001b[0mtokyo_hostels_df\u001b[0m\u001b[0;34m.\u001b[0m\u001b[0mValueForMoney\u001b[0m\u001b[0;34m.\u001b[0m\u001b[0mplot\u001b[0m\u001b[0;34m(\u001b[0m\u001b[0mkind\u001b[0m\u001b[0;34m=\u001b[0m\u001b[0;34m\"hist\"\u001b[0m\u001b[0;34m)\u001b[0m\u001b[0;34m\u001b[0m\u001b[0;34m\u001b[0m\u001b[0m\n\u001b[0m\u001b[1;32m      2\u001b[0m \u001b[0mplt\u001b[0m\u001b[0;34m.\u001b[0m\u001b[0mtitle\u001b[0m\u001b[0;34m(\u001b[0m\u001b[0;34m\"Value for Money Histogram\"\u001b[0m\u001b[0;34m)\u001b[0m\u001b[0;34m\u001b[0m\u001b[0;34m\u001b[0m\u001b[0m\n\u001b[1;32m      3\u001b[0m \u001b[0mplt\u001b[0m\u001b[0;34m.\u001b[0m\u001b[0mshow\u001b[0m\u001b[0;34m(\u001b[0m\u001b[0;34m)\u001b[0m\u001b[0;34m\u001b[0m\u001b[0;34m\u001b[0m\u001b[0m\n",
                        "\u001b[0;31mNameError\u001b[0m: name 'tokyo_hostels_df' is not defined"
                    ]
                }
            ],
            "source": "tokyo_hostels_df.ValueForMoney.plot(kind=\"hist\")\nplt.title(\"Value for Money Histogram\")\nplt.show()"
        },
        {
            "cell_type": "markdown",
            "metadata": {},
            "source": "Let's place hostels with highest 'value for money' rating"
        },
        {
            "cell_type": "code",
            "execution_count": 11,
            "metadata": {},
            "outputs": [
                {
                    "ename": "NameError",
                    "evalue": "name 'folium' is not defined",
                    "output_type": "error",
                    "traceback": [
                        "\u001b[0;31m---------------------------------------------------------------------------\u001b[0m",
                        "\u001b[0;31mNameError\u001b[0m                                 Traceback (most recent call last)",
                        "\u001b[0;32m<ipython-input-11-76cbb22adcf9>\u001b[0m in \u001b[0;36m<module>\u001b[0;34m\u001b[0m\n\u001b[0;32m----> 1\u001b[0;31m \u001b[0mtokyo_map\u001b[0m \u001b[0;34m=\u001b[0m \u001b[0mfolium\u001b[0m\u001b[0;34m.\u001b[0m\u001b[0mMap\u001b[0m\u001b[0;34m(\u001b[0m\u001b[0mlocation\u001b[0m\u001b[0;34m=\u001b[0m\u001b[0;34m(\u001b[0m\u001b[0;36m35.689487\u001b[0m\u001b[0;34m,\u001b[0m \u001b[0;36m139.691711\u001b[0m\u001b[0;34m)\u001b[0m\u001b[0;34m,\u001b[0m \u001b[0mzoom_start\u001b[0m\u001b[0;34m=\u001b[0m\u001b[0;36m11\u001b[0m\u001b[0;34m)\u001b[0m\u001b[0;34m\u001b[0m\u001b[0;34m\u001b[0m\u001b[0m\n\u001b[0m\u001b[1;32m      2\u001b[0m \u001b[0mhigh_vfm\u001b[0m \u001b[0;34m=\u001b[0m \u001b[0mtokyo_hostels_df\u001b[0m\u001b[0;34m[\u001b[0m\u001b[0mtokyo_hostels_df\u001b[0m\u001b[0;34m.\u001b[0m\u001b[0mValueForMoney\u001b[0m \u001b[0;34m==\u001b[0m \u001b[0;36m10\u001b[0m\u001b[0;34m]\u001b[0m\u001b[0;34m\u001b[0m\u001b[0;34m\u001b[0m\u001b[0m\n\u001b[1;32m      3\u001b[0m \u001b[0mlow_vfm\u001b[0m \u001b[0;34m=\u001b[0m \u001b[0mtokyo_hostels_df\u001b[0m\u001b[0;34m[\u001b[0m\u001b[0mtokyo_hostels_df\u001b[0m\u001b[0;34m.\u001b[0m\u001b[0mValueForMoney\u001b[0m \u001b[0;34m<=\u001b[0m \u001b[0;36m8\u001b[0m\u001b[0;34m]\u001b[0m\u001b[0;34m\u001b[0m\u001b[0;34m\u001b[0m\u001b[0m\n\u001b[1;32m      4\u001b[0m \u001b[0;34m\u001b[0m\u001b[0m\n\u001b[1;32m      5\u001b[0m \u001b[0;31m# add markers to map\u001b[0m\u001b[0;34m\u001b[0m\u001b[0;34m\u001b[0m\u001b[0;34m\u001b[0m\u001b[0m\n",
                        "\u001b[0;31mNameError\u001b[0m: name 'folium' is not defined"
                    ]
                }
            ],
            "source": "tokyo_map = folium.Map(location=(35.689487, 139.691711), zoom_start=11)\nhigh_vfm = tokyo_hostels_df[tokyo_hostels_df.ValueForMoney == 10]\nlow_vfm = tokyo_hostels_df[tokyo_hostels_df.ValueForMoney <= 8]\n\n# add markers to map\nfor lat, lng, label in zip(high_vfm.Latitude, high_vfm.Longitude, high_vfm.Name):\n    label = folium.Popup(label, parse_html=True)\n    folium.CircleMarker(\n        [lat, lng],\n        radius=5,\n        popup=label,\n        color='#33cc33',\n        fill=True,\n        fill_color='#FFF',\n        fill_opacity=0.75,\n        parse_html=False).add_to(tokyo_map)\n    \ntokyo_map"
        },
        {
            "cell_type": "code",
            "execution_count": null,
            "metadata": {},
            "outputs": [],
            "source": "low_vfm.StartPrice.mean()"
        },
        {
            "cell_type": "code",
            "execution_count": null,
            "metadata": {},
            "outputs": [],
            "source": "high_vfm.StartPrice.mean()"
        },
        {
            "cell_type": "code",
            "execution_count": 9,
            "metadata": {},
            "outputs": [
                {
                    "name": "stdout",
                    "output_type": "stream",
                    "text": "Distance from city center:\n"
                },
                {
                    "ename": "NameError",
                    "evalue": "name 'low_vfm' is not defined",
                    "output_type": "error",
                    "traceback": [
                        "\u001b[0;31m---------------------------------------------------------------------------\u001b[0m",
                        "\u001b[0;31mNameError\u001b[0m                                 Traceback (most recent call last)",
                        "\u001b[0;32m<ipython-input-9-d2ffe9e0fc4f>\u001b[0m in \u001b[0;36m<module>\u001b[0;34m\u001b[0m\n\u001b[1;32m      1\u001b[0m \u001b[0mprint\u001b[0m\u001b[0;34m(\u001b[0m\u001b[0;34m\"Distance from city center:\"\u001b[0m\u001b[0;34m)\u001b[0m\u001b[0;34m\u001b[0m\u001b[0;34m\u001b[0m\u001b[0m\n\u001b[0;32m----> 2\u001b[0;31m \u001b[0mprint\u001b[0m\u001b[0;34m(\u001b[0m\u001b[0;34m\"Low Value for money: \"\u001b[0m\u001b[0;34m,\u001b[0m \u001b[0mround\u001b[0m\u001b[0;34m(\u001b[0m\u001b[0mlow_vfm\u001b[0m\u001b[0;34m.\u001b[0m\u001b[0mDistanceFromCityCentre\u001b[0m\u001b[0;34m.\u001b[0m\u001b[0mmean\u001b[0m\u001b[0;34m(\u001b[0m\u001b[0;34m)\u001b[0m\u001b[0;34m,\u001b[0m \u001b[0;36m2\u001b[0m\u001b[0;34m)\u001b[0m\u001b[0;34m)\u001b[0m\u001b[0;34m\u001b[0m\u001b[0;34m\u001b[0m\u001b[0m\n\u001b[0m\u001b[1;32m      3\u001b[0m \u001b[0mprint\u001b[0m\u001b[0;34m(\u001b[0m\u001b[0;34m\"High Value for money: \"\u001b[0m\u001b[0;34m,\u001b[0m \u001b[0mround\u001b[0m\u001b[0;34m(\u001b[0m\u001b[0mhigh_vfm\u001b[0m\u001b[0;34m.\u001b[0m\u001b[0mDistanceFromCityCentre\u001b[0m\u001b[0;34m.\u001b[0m\u001b[0mmean\u001b[0m\u001b[0;34m(\u001b[0m\u001b[0;34m)\u001b[0m\u001b[0;34m,\u001b[0m \u001b[0;36m2\u001b[0m\u001b[0;34m)\u001b[0m\u001b[0;34m)\u001b[0m\u001b[0;34m\u001b[0m\u001b[0;34m\u001b[0m\u001b[0m\n",
                        "\u001b[0;31mNameError\u001b[0m: name 'low_vfm' is not defined"
                    ]
                }
            ],
            "source": "print(\"Distance from city center:\")\nprint(\"Low Value for money: \", round(low_vfm.DistanceFromCityCentre.mean(), 2))\nprint(\"High Value for money: \", round(high_vfm.DistanceFromCityCentre.mean(), 2))"
        },
        {
            "cell_type": "markdown",
            "metadata": {},
            "source": "<br>\nLet's visualise neighborhoods according to value for money score."
        },
        {
            "cell_type": "code",
            "execution_count": null,
            "metadata": {},
            "outputs": [],
            "source": "nbr_vfm = tokyo_hostels_df.groupby('Neighborhood')['ValueForMoney'].mean().reset_index()\nnbr_vfm.Neighborhood =  nbr_vfm.Neighborhood + \" Ku\"\nvfm_gdf = pd.merge(gdf, nbr_vfm, on='Neighborhood')\nvfm_gdf.head()"
        },
        {
            "cell_type": "code",
            "execution_count": null,
            "metadata": {},
            "outputs": [],
            "source": "colormap = branca.colormap.LinearColormap(\n    colors=['#FFF9C4', '#F0F4C3', '#DCE775','#689F38'],\n    index=vfm_gdf['ValueForMoney'].quantile([0.1, 0.2, 0.75, 0.9]),\n    vmin=hostels_density.Count.min(),\n    vmax=hostels_density.Count.max()\n)\n"
        },
        {
            "cell_type": "code",
            "execution_count": null,
            "metadata": {},
            "outputs": [],
            "source": "tokyo_map = folium.Map(location=(35.689487, 139.691711), zoom_start=11)\n\ngj = folium.GeoJson(\n    vfm_gdf,\n    style_function=lambda x: {'fillColor': colormap(x['properties']['ValueForMoney']), 'color': '#000',\n                                                    'weight':0.25, 'fillOpacity':0.75},\n    tooltip=folium.GeoJsonTooltip(fields=['Neighborhood', 'ValueForMoney'], \n                                  aliases=['Neighborhood', 'Value for Money'], \n                                  localize=True)\n).add_to(tokyo_map)\n\ntokyo_map"
        },
        {
            "cell_type": "markdown",
            "metadata": {},
            "source": "- **High value for money hostels are comparatively cheaper and are located away from the city center** \n- **Hostels in Chiyoda are near city center and have high value for money rating as well**"
        },
        {
            "cell_type": "markdown",
            "metadata": {},
            "source": "<hr><br>\n\n##### Q. Cheap hostels near metro stations?"
        },
        {
            "cell_type": "markdown",
            "metadata": {},
            "source": "We will remove rows with Empty VenueCategory"
        },
        {
            "cell_type": "code",
            "execution_count": null,
            "metadata": {},
            "outputs": [],
            "source": "tokyo_venues_df.Category.replace('', np.nan, inplace=True)\ntokyo_venues_df.dropna(inplace=True)\ntokyo_venues_df.drop(['Unnamed: 0'], axis=1, inplace=True)\ntokyo_venues_df.shape"
        },
        {
            "cell_type": "markdown",
            "metadata": {},
            "source": "Let's check the frequency of each Venue Category"
        },
        {
            "cell_type": "code",
            "execution_count": null,
            "metadata": {},
            "outputs": [],
            "source": "tokyo_venues_df.Category.value_counts()"
        },
        {
            "cell_type": "markdown",
            "metadata": {},
            "source": "<br> Let's check the average number of venues per Hostel"
        },
        {
            "cell_type": "code",
            "execution_count": null,
            "metadata": {},
            "outputs": [],
            "source": "tokyo_venues_df.groupby('HostelName').count()"
        },
        {
            "cell_type": "markdown",
            "metadata": {},
            "source": "Let's extract the hostels which are close to Metro Stations."
        },
        {
            "cell_type": "code",
            "execution_count": null,
            "metadata": {},
            "outputs": [],
            "source": "metro_hostels = tokyo_venues_df[tokyo_venues_df.Category.str.contains('Station')]\n\nmetro_hostels"
        },
        {
            "cell_type": "code",
            "execution_count": null,
            "metadata": {},
            "outputs": [],
            "source": "metro_hostels = tokyo_hostels_df[tokyo_hostels_df.Name.isin(metro_hostels.HostelName)]\nmetro_hostels.shape"
        },
        {
            "cell_type": "code",
            "execution_count": null,
            "metadata": {},
            "outputs": [],
            "source": "metro_hostels.RatingCategory.value_counts()"
        },
        {
            "cell_type": "code",
            "execution_count": null,
            "metadata": {},
            "outputs": [],
            "source": "tokyo_hostels_df.RatingCategory.value_counts()"
        },
        {
            "cell_type": "code",
            "execution_count": null,
            "metadata": {},
            "outputs": [],
            "source": "print(\"Hostels located near a metro/train/bus station:\")\nprint(f\"{metro_hostels.RatingCategory.value_counts()['Fabulous']/metro_hostels.RatingCategory.value_counts().sum()*100}% were rated Fabulous\")"
        },
        {
            "cell_type": "code",
            "execution_count": null,
            "metadata": {},
            "outputs": [],
            "source": "print(\"In general:\")\nprint(f\"{tokyo_hostels_df.RatingCategory.value_counts()['Fabulous']/tokyo_hostels_df.RatingCategory.value_counts().sum()*100}% were rated Fabulous\")"
        },
        {
            "cell_type": "markdown",
            "metadata": {},
            "source": "We can observe above that 50% of the hostels near metro/train/bus stations were rated Fabulous compared to only 33% in general."
        },
        {
            "cell_type": "markdown",
            "metadata": {},
            "source": "This shows that there is some correlation between the proximity to mode of transportation and the overall rating of the hostel"
        },
        {
            "cell_type": "markdown",
            "metadata": {},
            "source": "> **The proportion of hostels rated fabulous is more near metro/bus/train stations than in general.**"
        },
        {
            "cell_type": "markdown",
            "metadata": {},
            "source": "<br>\n\n\n##### Which neighborhood venues affect a user's rating for location of hostel?\nLet's do a similar analysis for a few categories and see how it affects the user rating. "
        },
        {
            "cell_type": "markdown",
            "metadata": {},
            "source": "We'll do similar analysis for *Convenience Store*, *Restaurant*, *Bar*, *Shopping Mall* categories"
        },
        {
            "cell_type": "code",
            "execution_count": null,
            "metadata": {},
            "outputs": [],
            "source": "hostels_near_store = tokyo_hostels_df[\n    tokyo_hostels_df.Name.isin(tokyo_venues_df.HostelName[tokyo_venues_df.Category.str.contains('store', case=False)])]"
        },
        {
            "cell_type": "code",
            "execution_count": null,
            "metadata": {},
            "outputs": [],
            "source": "hostels_near_store.RatingCategory.value_counts()"
        },
        {
            "cell_type": "code",
            "execution_count": null,
            "metadata": {},
            "outputs": [],
            "source": "print(\"Hostels located near a convenience store:\")\nprint(f\"{hostels_near_store.RatingCategory.value_counts()['Fabulous']/hostels_near_store.RatingCategory.value_counts().sum()*100}% were rated Fabulous\")"
        },
        {
            "cell_type": "markdown",
            "metadata": {},
            "source": "> **Travellers do not bother much about proximity to a convenience store doesn't since it doesn't seem to affect overall hostel rating.**"
        },
        {
            "cell_type": "markdown",
            "metadata": {},
            "source": "Let's check for public parks"
        },
        {
            "cell_type": "code",
            "execution_count": null,
            "metadata": {},
            "outputs": [],
            "source": "hostels_near_mall = tokyo_hostels_df[\n    tokyo_hostels_df.Name.isin(tokyo_venues_df.HostelName[tokyo_venues_df.Category.str.contains('park', case=False)])]"
        },
        {
            "cell_type": "code",
            "execution_count": null,
            "metadata": {},
            "outputs": [],
            "source": "hostels_near_mall.RatingCategory.value_counts()"
        },
        {
            "cell_type": "code",
            "execution_count": null,
            "metadata": {},
            "outputs": [],
            "source": "print(\"Hostels located near a convenience store:\")\nprint(f\"{hostels_near_mall.RatingCategory.value_counts()['Fabulous']/hostels_near_mall.RatingCategory.value_counts().sum()*100}% were rated Fabulous\")"
        },
        {
            "cell_type": "markdown",
            "metadata": {},
            "source": "> **Hostels with proximity to a park are quite lowly rated than others. Seems like travellers do not like public parks near hostels.**"
        },
        {
            "cell_type": "code",
            "execution_count": 10,
            "metadata": {},
            "outputs": [
                {
                    "ename": "NameError",
                    "evalue": "name 'tokyo_hostels_df' is not defined",
                    "output_type": "error",
                    "traceback": [
                        "\u001b[0;31m---------------------------------------------------------------------------\u001b[0m",
                        "\u001b[0;31mNameError\u001b[0m                                 Traceback (most recent call last)",
                        "\u001b[0;32m<ipython-input-10-ffccf85a05a4>\u001b[0m in \u001b[0;36m<module>\u001b[0;34m\u001b[0m\n\u001b[0;32m----> 1\u001b[0;31m hostels_near_site = tokyo_hostels_df[\n\u001b[0m\u001b[1;32m      2\u001b[0m     tokyo_hostels_df.Name.isin(tokyo_venues_df.HostelName[tokyo_venues_df.Category.str.contains('Historic Site', case=False)])]\n",
                        "\u001b[0;31mNameError\u001b[0m: name 'tokyo_hostels_df' is not defined"
                    ]
                }
            ],
            "source": "hostels_near_site = tokyo_hostels_df[\n    tokyo_hostels_df.Name.isin(tokyo_venues_df.HostelName[tokyo_venues_df.Category.str.contains('Historic Site', case=False)])]"
        },
        {
            "cell_type": "code",
            "execution_count": null,
            "metadata": {},
            "outputs": [],
            "source": "hostels_near_site.RatingCategory.value_counts()"
        },
        {
            "cell_type": "code",
            "execution_count": null,
            "metadata": {},
            "outputs": [],
            "source": "print(\"Hostels located near a historic site:\")\nprint(f\"{hostels_near_site.RatingCategory.value_counts()['Fabulous']/hostels_near_site.RatingCategory.value_counts().sum()*100}% were rated Fabulous\")"
        },
        {
            "cell_type": "markdown",
            "metadata": {},
            "source": "> **The proportion of hostels rated fabulous is more near a historic site than in general.**"
        },
        {
            "cell_type": "code",
            "execution_count": null,
            "metadata": {},
            "outputs": [],
            "source": "hostels_near_museum = tokyo_hostels_df[\n    tokyo_hostels_df.Name.isin(tokyo_venues_df.HostelName[tokyo_venues_df.Category.str.contains('Museum', case=False)])]"
        },
        {
            "cell_type": "code",
            "execution_count": null,
            "metadata": {},
            "outputs": [],
            "source": "hostels_near_museum.RatingCategory.value_counts()"
        },
        {
            "cell_type": "code",
            "execution_count": null,
            "metadata": {},
            "outputs": [],
            "source": "print(\"Hostels located near a historic site:\")\nprint(f\"{hostels_near_museum.RatingCategory.value_counts()['Fabulous']/hostels_near_museum.RatingCategory.value_counts().sum()*100}% were rated Fabulous\")"
        },
        {
            "cell_type": "markdown",
            "metadata": {},
            "source": "> **Proportion of Hostels with proximity to a museum that are lowly rated is quite high than in general.**"
        },
        {
            "cell_type": "markdown",
            "metadata": {},
            "source": "<hr>\n<br>"
        },
        {
            "cell_type": "markdown",
            "metadata": {},
            "source": "\n### 5.2 Clustering"
        },
        {
            "cell_type": "markdown",
            "metadata": {},
            "source": "Now, we will cluster the hostels twice. Once depending on the different rating parameters and one based on their neighborhood.\n\nConsider the following case, that a traveller has selected a hostel, but he finds that it is full! What options does he have? He/She can either go for a hostel which is similar in rating and price to the one he/she has selected. Or he/she can consider hostels which boast similar neighborhood to the selected one.\n\nWe will help traveller in both cases"
        },
        {
            "cell_type": "markdown",
            "metadata": {},
            "source": "#### 5.2.1 Clustering based on rating parameters"
        },
        {
            "cell_type": "code",
            "execution_count": null,
            "metadata": {},
            "outputs": [],
            "source": "X = tokyo_hostels_df[['StartPrice', 'DistanceFromCityCentre', 'OverallScore', \n                      'Atmosphere', 'Cleanliness', 'Facilities', 'Location', \n                      'Security', 'Staff', 'ValueForMoney']]"
        },
        {
            "cell_type": "code",
            "execution_count": null,
            "metadata": {},
            "outputs": [],
            "source": "def get_inertia(n_clusters):\n    km = KMeans(n_clusters=n_clusters, init='k-means++', max_iter=15, random_state=8)\n    km.fit(X)\n    return km.inertia_"
        },
        {
            "cell_type": "code",
            "execution_count": null,
            "metadata": {},
            "outputs": [],
            "source": "scores = [get_inertia(x) for x in range(2, 21)]"
        },
        {
            "cell_type": "code",
            "execution_count": null,
            "metadata": {},
            "outputs": [],
            "source": "plt.figure(figsize=[10, 8])\nsns.lineplot(x=range(2, 21), y=scores)\nplt.title(\"K vs Error\")\nplt.xticks(range(2, 21))\nplt.xlabel(\"K\")\nplt.ylabel(\"Error\")"
        },
        {
            "cell_type": "markdown",
            "metadata": {},
            "source": "It is evident from the above plot that we have 6 clusters in our data. Let's retrain the model and plot the hostels on the map."
        },
        {
            "cell_type": "code",
            "execution_count": null,
            "metadata": {},
            "outputs": [],
            "source": "kmeans = KMeans(n_clusters=6)\nkmeans.fit(X)"
        },
        {
            "cell_type": "code",
            "execution_count": null,
            "metadata": {},
            "outputs": [],
            "source": "tokyo_hostels_df['RatingCluster'] = kmeans.labels_"
        },
        {
            "cell_type": "code",
            "execution_count": null,
            "metadata": {},
            "outputs": [],
            "source": "tokyo_map = folium.Map(location=(35.689487, 139.691711), zoom_start=11)\n\n# set color scheme for the clusters\nx = np.arange(9)\nys = [i + x + (i*x)**2 for i in range(9)]\ncolors_array = cm.rainbow(np.linspace(0, 1, len(ys)))\nrainbow = [colors.rgb2hex(i) for i in colors_array]\n\n# add markers to map\nmarkers_colors = []\nfor lat, lng, name, cluster in zip(tokyo_hostels_df.Latitude, tokyo_hostels_df.Longitude, tokyo_hostels_df.Name, kmeans.labels_):\n    label = folium.Popup(str(name) + ' Cluster ' + str(cluster), parse_html=True)\n    folium.CircleMarker(\n        [lat, lng],\n        radius=4,\n        popup=label,\n        color=rainbow[cluster-1],\n        fill=True,\n        fill_color='#FFF',\n        fill_opacity=0.75,\n        parse_html=False).add_to(tokyo_map)\n    \ntokyo_map"
        },
        {
            "cell_type": "markdown",
            "metadata": {},
            "source": "_**Examining Clusters**_"
        },
        {
            "cell_type": "markdown",
            "metadata": {},
            "source": "Now, we can examine each cluster and determine the discriminating venue categories that distinguish each cluster. But we won't be doing it for all. We'll compare first two clusters for the sake of brevity"
        },
        {
            "cell_type": "markdown",
            "metadata": {},
            "source": "##### Cluster 0"
        },
        {
            "cell_type": "code",
            "execution_count": null,
            "metadata": {},
            "outputs": [],
            "source": "tokyo_hostels_df[tokyo_hostels_df.RatingCluster == 0].describe()"
        },
        {
            "cell_type": "markdown",
            "metadata": {},
            "source": "**Traits: Very High Cost. Close to City center. Very high cleaniness and security ratings**"
        },
        {
            "cell_type": "markdown",
            "metadata": {},
            "source": "##### Cluster 4"
        },
        {
            "cell_type": "code",
            "execution_count": null,
            "metadata": {},
            "outputs": [],
            "source": "tokyo_hostels_df[tokyo_hostels_df.RatingCluster == 4].describe()"
        },
        {
            "cell_type": "markdown",
            "metadata": {},
            "source": "**Traits: High Cost, On avg 7km of City center. All ratings moderately high**"
        },
        {
            "cell_type": "markdown",
            "metadata": {},
            "source": "Now suppose that I want to stay at _**Retrometro Backpackers**_. However, when I go to book, it shows that it doesn't have any spots available! Fortunately, I can now use the cluster result to find a hostel similar to Retrometro Backpackers. Let's see what options do I have!"
        },
        {
            "cell_type": "code",
            "execution_count": null,
            "metadata": {},
            "outputs": [],
            "source": "tokyo_hostels_df[tokyo_hostels_df.Name.str.contains(\"Retrometro\")]"
        },
        {
            "cell_type": "markdown",
            "metadata": {},
            "source": "Retrometro Backpackers' RatingCluster is 5. Let's see what options do I have!"
        },
        {
            "cell_type": "code",
            "execution_count": null,
            "metadata": {},
            "outputs": [],
            "source": "tokyo_hostels_df[tokyo_hostels_df.RatingCluster == 2].sort_values(['OverallScore'], ascending=False)[:5]"
        },
        {
            "cell_type": "markdown",
            "metadata": {},
            "source": "- Fortunately I can book a bed at Hostel bedgasm! It is similarly priced and rated as Retrometro Backpackers!"
        },
        {
            "cell_type": "markdown",
            "metadata": {},
            "source": "- We can do the same for the other 5 clusters as well, but we are not doing that now."
        },
        {
            "cell_type": "markdown",
            "metadata": {},
            "source": "<hr><br>\n\n#### 5.2.2 Clustering based on neighborhood"
        },
        {
            "cell_type": "markdown",
            "metadata": {},
            "source": "Now, we will cluster the same hostels. But this time, we will not use ratings or price instead we will use the neighborhood data and see which hostels have similar surroundings. Some travellers focus more on the location of a place rather than the price or ratings. This can be useful for them."
        },
        {
            "cell_type": "markdown",
            "metadata": {},
            "source": "We will do one-hot encoding for the Category column to convert them to features"
        },
        {
            "cell_type": "code",
            "execution_count": null,
            "metadata": {},
            "outputs": [],
            "source": "category_1hot = pd.get_dummies(tokyo_venues_df.Category)\ncategory_1hot['HostelName'] = tokyo_venues_df.HostelName\n\n# move neighborhood column to the first column\nfixed_columns = [category_1hot.columns[-1]] + list(category_1hot.columns[:-1])\ncategory_1hot = category_1hot[fixed_columns]\ncategory_1hot.head()"
        },
        {
            "cell_type": "code",
            "execution_count": null,
            "metadata": {},
            "outputs": [],
            "source": "category_1hot.shape"
        },
        {
            "cell_type": "markdown",
            "metadata": {},
            "source": "Next, let's group rows by neighborhood and by taking the mean of the frequency of occurrence of each category."
        },
        {
            "cell_type": "code",
            "execution_count": null,
            "metadata": {},
            "outputs": [],
            "source": "category_1hot = category_1hot.groupby('HostelName').mean().reset_index()\ncategory_1hot.head()"
        },
        {
            "cell_type": "markdown",
            "metadata": {},
            "source": "Let's see few Hostels along with the top 5 most common venues"
        },
        {
            "cell_type": "code",
            "execution_count": null,
            "metadata": {},
            "outputs": [],
            "source": "num_top_venues = 5\n\nfor nbrhood in category_1hot.HostelName[:5]:\n    print(\"---- \"+nbrhood+\" ----\")\n    temp = category_1hot[category_1hot.HostelName == nbrhood].T.reset_index()\n    temp.columns = ['venue','freq']\n    temp = temp.iloc[1:]\n    temp['freq'] = temp['freq'].astype(float)\n    temp = temp.round({'freq': 2})\n    print(temp.sort_values('freq', ascending=False).reset_index(drop=True).head(num_top_venues))\n    print('\\n')"
        },
        {
            "cell_type": "markdown",
            "metadata": {},
            "source": "##### Let's put that into a pandas dataframe"
        },
        {
            "cell_type": "code",
            "execution_count": null,
            "metadata": {},
            "outputs": [],
            "source": "def return_most_common_venues(row, num_top_venues):\n    row_categories = row.iloc[1:]\n    row_categories_sorted = row_categories.sort_values(ascending=False)\n    \n    return row_categories_sorted.index.values[0:num_top_venues]"
        },
        {
            "cell_type": "code",
            "execution_count": null,
            "metadata": {},
            "outputs": [],
            "source": "indicators = ['st', 'nd', 'rd']\nnum_top_venues = 10\n\n# create columns according to number of top venues\ncolumns = ['HostelName']\nfor ind in np.arange(num_top_venues):\n    try:\n        columns.append('{}{} Most Common Venue'.format(ind+1, indicators[ind]))\n    except:\n        columns.append('{}th Most Common Venue'.format(ind+1))\n\n# create a new dataframe\nnbr_venues_sorted_df = pd.DataFrame(columns=columns)\nnbr_venues_sorted_df['HostelName'] = category_1hot.HostelName\n\nfor ind in np.arange(category_1hot.shape[0]):\n    nbr_venues_sorted_df.iloc[ind, 1:] = return_most_common_venues(category_1hot.iloc[ind, :], num_top_venues)\n\nnbr_venues_sorted_df.head()"
        },
        {
            "cell_type": "markdown",
            "metadata": {},
            "source": "#### Clustering Neighborhoods"
        },
        {
            "cell_type": "markdown",
            "metadata": {},
            "source": "Let's cluster neighborhoods into 4 types based on venue categories."
        },
        {
            "cell_type": "code",
            "execution_count": null,
            "metadata": {},
            "outputs": [],
            "source": "kmeans = KMeans(n_clusters=4, init='k-means++', max_iter=15, random_state=8)\nX = category_1hot.drop(['HostelName'], axis=1)\nX.head()"
        },
        {
            "cell_type": "code",
            "execution_count": null,
            "metadata": {},
            "outputs": [],
            "source": "kmeans.fit(X)"
        },
        {
            "cell_type": "code",
            "execution_count": null,
            "metadata": {},
            "outputs": [],
            "source": "nbr_venues_sorted_df['Cluster'] = kmeans.labels_\nnbr_venues_sorted_df.rename(columns={'HostelName': 'Name'}, inplace=True)"
        },
        {
            "cell_type": "code",
            "execution_count": null,
            "metadata": {},
            "outputs": [],
            "source": "tokyo_hostels_df_merged = pd.merge(tokyo_hostels_df, nbr_venues_sorted_df, on='Name')\ntokyo_hostels_df_merged.head()"
        },
        {
            "cell_type": "markdown",
            "metadata": {},
            "source": "__*Finally, let's visualize the resulting clusters*__"
        },
        {
            "cell_type": "code",
            "execution_count": null,
            "metadata": {},
            "outputs": [],
            "source": "# create map\ntokyo_map = folium.Map(location=(35.689487, 139.691711), zoom_start=11)\n\n# set color scheme for the clusters\nx = np.arange(9)\nys = [i + x + (i*x)**2 for i in range(9)]\ncolors_array = cm.rainbow(np.linspace(0, 1, len(ys)))\nrainbow = [colors.rgb2hex(i) for i in colors_array]\n\n# add markers to the map\nmarkers_colors = []\nfor lat, lon, poi, cluster in zip(tokyo_hostels_df_merged['Latitude'], tokyo_hostels_df_merged['Longitude'], tokyo_hostels_df_merged['Name'], tokyo_hostels_df_merged['Cluster']):\n    label = folium.Popup(str(poi) + ' (Cluster ' + str(cluster) + ')', parse_html=True)\n    folium.CircleMarker(\n        [lat, lon],\n        radius=4,\n        popup=label,\n        color=rainbow[cluster-1],\n        fill=True,\n        fill_color='#FFF',\n        fill_opacity=0.7).add_to(tokyo_map)"
        },
        {
            "cell_type": "code",
            "execution_count": null,
            "metadata": {},
            "outputs": [],
            "source": "tokyo_map"
        },
        {
            "cell_type": "markdown",
            "metadata": {},
            "source": "##### Examine Clusters"
        },
        {
            "cell_type": "markdown",
            "metadata": {},
            "source": "Now, we can examine each cluster and determine the discriminating venue categories that distinguish each cluster. Based on the defining categories, we can then assign a name to each cluster."
        },
        {
            "cell_type": "markdown",
            "metadata": {},
            "source": "**Cluster 0**"
        },
        {
            "cell_type": "code",
            "execution_count": null,
            "metadata": {},
            "outputs": [],
            "source": "tokyo_hostels_df_merged.loc[tokyo_hostels_df_merged['Cluster'] == 0, tokyo_hostels_df_merged.columns[[0] + list(range(18, tokyo_hostels_df_merged.shape[1]))]][:5]"
        },
        {
            "cell_type": "code",
            "execution_count": null,
            "metadata": {},
            "outputs": [],
            "source": "tokyo_hostels_df_merged.loc[tokyo_hostels_df_merged['Cluster'] == 0]['1st Most Common Venue'].value_counts()"
        },
        {
            "cell_type": "markdown",
            "metadata": {},
            "source": "> **1st Cluster Properties: Restaurants and Coffee Shops**"
        },
        {
            "cell_type": "code",
            "execution_count": null,
            "metadata": {},
            "outputs": [],
            "source": "tokyo_hostels_df_merged.loc[tokyo_hostels_df_merged['Cluster'] == 1, tokyo_hostels_df_merged.columns[[0] + list(range(18, tokyo_hostels_df_merged.shape[1]))]][:5]"
        },
        {
            "cell_type": "code",
            "execution_count": null,
            "metadata": {},
            "outputs": [],
            "source": "tokyo_hostels_df_merged.loc[tokyo_hostels_df_merged['Cluster'] == 1]['1st Most Common Venue'].value_counts()"
        },
        {
            "cell_type": "markdown",
            "metadata": {},
            "source": "> **2nd Cluster Properties: Convenience Stores**"
        },
        {
            "cell_type": "code",
            "execution_count": null,
            "metadata": {},
            "outputs": [],
            "source": "tokyo_hostels_df_merged.loc[tokyo_hostels_df_merged['Cluster'] == 2, tokyo_hostels_df_merged.columns[[0] + list(range(18, tokyo_hostels_df_merged.shape[1]))]][:5]"
        },
        {
            "cell_type": "markdown",
            "metadata": {},
            "source": "> **3rd Cluster Neighborhood: Baseball Field and Gym Pool**"
        },
        {
            "cell_type": "code",
            "execution_count": null,
            "metadata": {},
            "outputs": [],
            "source": "tokyo_hostels_df_merged.loc[tokyo_hostels_df_merged['Cluster'] == 3, tokyo_hostels_df_merged.columns[[0] + list(range(18, tokyo_hostels_df_merged.shape[1]))]][:5]"
        },
        {
            "cell_type": "markdown",
            "metadata": {},
            "source": "> **4th Cluster Neighborhood: Bar and Restaurants**"
        },
        {
            "cell_type": "markdown",
            "metadata": {},
            "source": "## 6. Conclusion"
        },
        {
            "cell_type": "markdown",
            "metadata": {},
            "source": "We got a glimpse of the hostel scene in Tokyo and were able to find out some interesting insights which might be useful to travellers as well as people with business interests. Let's summarize our findings:"
        },
        {
            "cell_type": "markdown",
            "metadata": {},
            "source": "- Most hostels are located in Taito-ku and Chuo-ku.\n- Sumita-ku seems to be an interesting locality since it is close to Taito-ku and 43% cheaper than Taito-ku.\n- The starting price of hostels does not vary much depending on its distance from the city center.\n- Most of the hostels rated high for their security are in Katsushika, Kita, Meguro, Shibuya and Shinagawa\n- Proximity to a mode of transportation or a historic site positively affects the hostel rating.\n- Hostels rated highly for being value for money are comparatively cheaper and are located away from the city center"
        },
        {
            "cell_type": "markdown",
            "metadata": {},
            "source": "In addition, we also clustered the hostels, first based on the different rating parameters, and second based on the neighborhood of the hostels. It can useful for travellers to identify a alternate hostel."
        },
        {
            "cell_type": "markdown",
            "metadata": {},
            "source": "There are many things which I have assumed while making the above claims since we were working with limited. I'll try to expand the dataset for a more comprehensive study."
        },
        {
            "cell_type": "markdown",
            "metadata": {},
            "source": "Until then, sayonara!"
        }
    ],
    "metadata": {
        "kernelspec": {
            "display_name": "Python 3.6",
            "language": "python",
            "name": "python3"
        },
        "language_info": {
            "codemirror_mode": {
                "name": "ipython",
                "version": 3
            },
            "file_extension": ".py",
            "mimetype": "text/x-python",
            "name": "python",
            "nbconvert_exporter": "python",
            "pygments_lexer": "ipython3",
            "version": "3.6.9"
        }
    },
    "nbformat": 4,
    "nbformat_minor": 4
}